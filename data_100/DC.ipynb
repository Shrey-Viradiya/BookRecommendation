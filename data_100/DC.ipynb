{
 "cells": [
  {
   "cell_type": "code",
   "execution_count": 1,
   "metadata": {
    "collapsed": true
   },
   "outputs": [],
   "source": [
    "import pandas as pd"
   ]
  },
  {
   "cell_type": "code",
   "execution_count": 3,
   "outputs": [
    {
     "name": "stderr",
     "output_type": "stream",
     "text": [
      "/media/shrey/Data/ModernTech/BookRecommendation/BRC/lib/python3.6/site-packages/IPython/core/interactiveshell.py:3063: DtypeWarning: Columns (3) have mixed types.Specify dtype option on import or set low_memory=False.\n",
      "  interactivity=interactivity, compiler=compiler, result=result)\n"
     ]
    }
   ],
   "source": [
    "ratingsDF = pd.read_csv('../data_small/ratings.csv')\n",
    "usersDF = pd.read_csv('../data_small/users.csv')\n",
    "bookDF = pd.read_csv('books.csv')\n"
   ],
   "metadata": {
    "collapsed": false,
    "pycharm": {
     "name": "#%%\n"
    }
   }
  },
  {
   "cell_type": "code",
   "execution_count": 4,
   "outputs": [
    {
     "name": "stdout",
     "output_type": "stream",
     "text": [
      "        userID        ISBN  rating\n",
      "0            1  1855494981      10\n",
      "1            1  0807281913       9\n",
      "2            1  0807281751       9\n",
      "3            1  0316358479       8\n",
      "4            1  2203001011       8\n",
      "...        ...         ...     ...\n",
      "931022  276704  0743211383       7\n",
      "931023  276704  080410526X       0\n",
      "931024  276704  0806917695       5\n",
      "931025  276704  0876044011       0\n",
      "931026  276704  1563526298       9\n",
      "\n",
      "[931027 rows x 3 columns]\n"
     ]
    }
   ],
   "source": [
    "print(ratingsDF)"
   ],
   "metadata": {
    "collapsed": false,
    "pycharm": {
     "name": "#%%\n"
    }
   }
  },
  {
   "cell_type": "code",
   "execution_count": 5,
   "outputs": [
    {
     "name": "stdout",
     "output_type": "stream",
     "text": [
      "     userID   ISBN  rating\n",
      "0     11676  13602   13602\n",
      "1    198711   7550    7550\n",
      "2    153662   6109    6109\n",
      "3     98391   5891    5891\n",
      "4     35859   5850    5850\n",
      "..      ...    ...     ...\n",
      "995  180378    183     183\n",
      "996   16155    183     183\n",
      "997  179730    182     182\n",
      "998   80555    182     182\n",
      "999   33580    182     182\n",
      "\n",
      "[1000 rows x 3 columns]\n"
     ]
    }
   ],
   "source": [
    "temp = ratingsDF.groupby('userID').agg('count')\n",
    "temp = temp.sort_values(by=['ISBN'],ascending=False)\n",
    "temp = temp.head(1000).reset_index()\n",
    "print(temp)"
   ],
   "metadata": {
    "collapsed": false,
    "pycharm": {
     "name": "#%%\n"
    }
   }
  },
  {
   "cell_type": "code",
   "execution_count": 6,
   "outputs": [],
   "source": [
    "usrs = list(temp['userID'])\n"
   ],
   "metadata": {
    "collapsed": false,
    "pycharm": {
     "name": "#%%\n"
    }
   }
  },
  {
   "cell_type": "code",
   "execution_count": 7,
   "outputs": [
    {
     "name": "stdout",
     "output_type": "stream",
     "text": [
      "[11676, 198711, 153662, 98391, 35859, 212898, 278418, 76352, 110973, 235105, 230522, 16795, 234623, 36836, 52584, 245963, 204864, 55492, 185233, 171118, 102967, 232131, 227447, 98741, 129358, 60244, 190925, 135149, 231210, 189835, 189334, 69697, 78783, 177458, 172742, 73394, 242824, 269566, 213350, 23768, 238781, 175003, 226545, 36606, 182085, 11601, 148744, 123981, 26544, 43246, 200674, 23902, 274308, 257204, 95359, 166123, 127233, 127429, 162639, 275970, 87141, 172030, 12538, 184299, 238120, 130474, 76626, 236283, 115120, 266226, 93047, 142524, 87555, 254465, 245827, 166596, 51883, 196077, 265115, 35050, 110029, 56959, 228998, 31315, 246655, 271284, 225087, 131402, 56447, 88733, 175886, 174304, 40943, 56399, 251613, 234828, 16634, 158295, 52614, 248718, 156150, 31556, 225810, 35857, 63714, 107784, 167800, 114414, 147847, 274061, 76499, 113519, 182987, 7346, 224349, 100906, 224764, 129074, 252695, 197659, 211426, 265313, 187145, 56856, 127200, 235842, 131046, 170229, 157273, 125692, 78834, 200226, 124942, 3363, 6251, 240144, 195694, 116599, 101209, 146113, 261829, 228764, 217375, 170518, 264321, 193560, 203968, 159033, 69355, 143253, 251422, 173632, 262399, 56271, 6575, 87746, 225763, 242006, 104636, 15408, 21014, 143175, 32195, 174791, 185384, 225986, 128835, 26535, 81492, 114368, 258185, 69042, 249894, 127359, 77940, 138844, 32773, 94347, 37950, 25981, 219546, 205735, 258152, 261105, 49109, 38023, 13552, 181176, 243077, 78973, 28204, 150124, 180651, 149908, 33974, 262998, 210035, 106225, 133747, 206534, 55548, 201526, 30276, 43842, 68555, 110912, 46398, 94923, 268330, 270713, 101851, 194669, 190708, 187517, 129716, 53174, 254899, 61619, 107021, 256407, 69078, 144531, 29259, 60277, 69971, 186570, 107951, 233911, 31826, 3757, 112001, 135045, 72992, 112026, 173415, 265889, 206979, 135265, 16966, 82893, 59172, 231857, 24921, 114988, 156269, 255489, 125774, 150968, 212923, 105979, 130571, 167471, 86243, 115490, 229551, 20115, 210485, 14521, 51450, 39646, 30711, 52853, 125039, 160819, 227520, 256167, 258534, 93085, 126736, 274004, 114868, 112881, 136205, 145619, 203240, 23872, 138441, 113983, 49144, 140000, 89602, 145451, 236757, 120548, 242106, 28591, 225232, 29855, 2276, 179978, 277427, 221445, 54218, 209516, 38781, 217121, 122429, 114865, 32440, 246617, 235392, 30533, 247447, 236172, 201290, 75860, 143415, 91931, 183995, 37712, 145449, 79186, 69232, 251394, 146348, 177072, 95932, 13273, 48494, 94853, 113270, 269728, 194600, 91832, 52199, 111947, 123883, 104665, 196160, 224138, 76942, 208829, 27617, 268932, 16916, 93363, 263877, 178181, 151806, 17950, 217740, 268110, 6543, 11993, 136382, 39281, 162738, 14422, 136010, 205473, 101876, 255218, 209756, 249862, 217106, 254498, 98297, 178667, 252848, 241198, 222296, 165319, 108285, 170184, 236340, 252071, 75591, 51386, 85656, 82831, 223087, 238557, 165308, 85526, 25409, 107301, 246671, 39467, 210792, 250405, 266866, 168245, 269719, 124487, 263460, 40889, 209373, 241548, 100846, 226879, 110483, 133567, 152249, 102702, 211919, 216683, 233917, 216444, 214786, 89891, 203799, 30511, 242299, 7158, 105517, 83637, 131855, 28523, 88693, 188010, 234359, 49889, 244349, 77809, 266865, 229329, 266056, 149907, 212645, 129851, 155147, 216012, 36609, 162052, 39616, 95193, 52917, 164533, 148258, 172512, 260897, 173291, 168387, 42400, 55490, 218552, 84024, 169233, 268030, 212965, 32721, 122881, 100459, 228681, 8890, 147451, 105374, 250764, 206567, 144131, 65258, 141493, 238961, 93629, 8681, 136252, 227705, 179733, 26516, 238864, 161752, 41841, 50225, 88677, 70415, 78553, 247429, 157247, 208141, 173684, 249628, 147965, 204591, 163973, 273979, 38273, 182086, 55187, 122793, 222050, 59971, 168064, 169663, 115003, 119575, 67840, 251843, 164465, 253821, 150979, 167349, 109574, 208406, 189516, 4385, 274301, 95902, 23288, 182993, 197775, 207246, 30972, 191187, 264317, 199772, 131675, 109955, 138073, 229011, 180586, 180957, 264082, 165232, 201017, 86202, 170513, 244688, 81977, 44728, 85757, 160541, 79441, 146230, 102647, 21252, 189973, 241980, 12982, 141710, 254, 76818, 235935, 52203, 198699, 96448, 131837, 208671, 170742, 60707, 8936, 250184, 10819, 142454, 231827, 55734, 70052, 124078, 71712, 135458, 224646, 63394, 85701, 15418, 106816, 82511, 92853, 37567, 263163, 62895, 241666, 239594, 177432, 187520, 155495, 169699, 170634, 238526, 218608, 156467, 113904, 148199, 245371, 230496, 254971, 73651, 94242, 137589, 81560, 135831, 236948, 259629, 236959, 153621, 163804, 231237, 247752, 268032, 170575, 153563, 24194, 190459, 193499, 222488, 69808, 70594, 164675, 238699, 51094, 30735, 271705, 179744, 250962, 51350, 111174, 178950, 25601, 128696, 253556, 151790, 19664, 177090, 251844, 264637, 164828, 177690, 234597, 271195, 192093, 150498, 203820, 174216, 196502, 126492, 117539, 174092, 2766, 53628, 85993, 62272, 41700, 63938, 92979, 232945, 147141, 85426, 26593, 66680, 53729, 230249, 239584, 245410, 20859, 277639, 242083, 225199, 69405, 88283, 115002, 92547, 222941, 265595, 129008, 208410, 44595, 180348, 26583, 13082, 16106, 238541, 204522, 197364, 108352, 100644, 155219, 183196, 220278, 216466, 110934, 170947, 95316, 235282, 204167, 255092, 198621, 125519, 60337, 80538, 129465, 242409, 180917, 127914, 123625, 39773, 124079, 141901, 86641, 201447, 179772, 155014, 18067, 211430, 140036, 160032, 38556, 88937, 133689, 264031, 246513, 210959, 120093, 31846, 7286, 124363, 27647, 130554, 28360, 199416, 30487, 98758, 139742, 168464, 149934, 149069, 223154, 96054, 164027, 47316, 41084, 244736, 139467, 271448, 113817, 187256, 201674, 252820, 10447, 208568, 196457, 137688, 201768, 92810, 246156, 152186, 19085, 95903, 181687, 114444, 123790, 104399, 62891, 145641, 254206, 259380, 133571, 49460, 168144, 87974, 257028, 76223, 30509, 82407, 266753, 230708, 138097, 22625, 144555, 102275, 249111, 229313, 76151, 159858, 92652, 213150, 245645, 2977, 134837, 8245, 81045, 154992, 91203, 177374, 114178, 104429, 95991, 6242, 224430, 236058, 42914, 190807, 245839, 159376, 43806, 207349, 163319, 82926, 173835, 80683, 72352, 91342, 138578, 154176, 21576, 206074, 89192, 36907, 209875, 261037, 94985, 133868, 117251, 226965, 222204, 12824, 109461, 121726, 55892, 267635, 164323, 270820, 137190, 6563, 240568, 168047, 205980, 140358, 132083, 145165, 6323, 207499, 172888, 208147, 258938, 7915, 259260, 252222, 20201, 234721, 143792, 126604, 277478, 185308, 256247, 238545, 64436, 50730, 131027, 256402, 225989, 242646, 125203, 102359, 4017, 229741, 224435, 109901, 141902, 178199, 21659, 35836, 15957, 97874, 201783, 164096, 196047, 31391, 13850, 8067, 35433, 183287, 257700, 136139, 269890, 142093, 211847, 153718, 107453, 87143, 128208, 18401, 258690, 101305, 207782, 141819, 187170, 108005, 240567, 157811, 95010, 163761, 83287, 110214, 151589, 56360, 50547, 246311, 214272, 33145, 260183, 116122, 88793, 73681, 274808, 268622, 28634, 188951, 59727, 44296, 155916, 9856, 252827, 225595, 83671, 36554, 99955, 26883, 203017, 240403, 193458, 8284, 138198, 45557, 2033, 68185, 267061, 163570, 133296, 79942, 278188, 151107, 225996, 52350, 269157, 136348, 98787, 30712, 199025, 27462, 147224, 259004, 43619, 160295, 62755, 152354, 241614, 124489, 190741, 244994, 244171, 227250, 110076, 170415, 21364, 193898, 86189, 64241, 55927, 179718, 62881, 90232, 276680, 9417, 204359, 57108, 66942, 169779, 156214, 8253, 106007, 171078, 120565, 115234, 132836, 142121, 141444, 158226, 183958, 242361, 159440, 37644, 214920, 259829, 30273, 261641, 251140, 156300, 113467, 146803, 56039, 259901, 171970, 226006, 108773, 61901, 202173, 250936, 146175, 149084, 43910, 134797, 219259, 247958, 166922, 196738, 80810, 88122, 180378, 16155, 179730, 80555, 33580]\n"
     ]
    }
   ],
   "source": [
    "print(usrs)"
   ],
   "metadata": {
    "collapsed": false,
    "pycharm": {
     "name": "#%%\n"
    }
   }
  },
  {
   "cell_type": "code",
   "execution_count": 8,
   "outputs": [],
   "source": [
    "ratingsDF = ratingsDF[ratingsDF['userID'].isin(usrs)]"
   ],
   "metadata": {
    "collapsed": false,
    "pycharm": {
     "name": "#%%\n"
    }
   }
  },
  {
   "cell_type": "code",
   "execution_count": 9,
   "outputs": [
    {
     "data": {
      "text/plain": "        userID        ISBN  rating\n970     277427  002542730X      10\n971     277427  0026217457       0\n972     277427  003008685X       8\n973     277427  0030615321       0\n974     277427  0060002050       0\n...        ...         ...     ...\n930900  276680  1884910033       0\n930901  276680  1888173408       7\n930902  276680  1888173564       8\n930903  276680  1888173572       0\n930904  276680  1931561648       9\n\n[545665 rows x 3 columns]",
      "text/html": "<div>\n<style scoped>\n    .dataframe tbody tr th:only-of-type {\n        vertical-align: middle;\n    }\n\n    .dataframe tbody tr th {\n        vertical-align: top;\n    }\n\n    .dataframe thead th {\n        text-align: right;\n    }\n</style>\n<table border=\"1\" class=\"dataframe\">\n  <thead>\n    <tr style=\"text-align: right;\">\n      <th></th>\n      <th>userID</th>\n      <th>ISBN</th>\n      <th>rating</th>\n    </tr>\n  </thead>\n  <tbody>\n    <tr>\n      <th>970</th>\n      <td>277427</td>\n      <td>002542730X</td>\n      <td>10</td>\n    </tr>\n    <tr>\n      <th>971</th>\n      <td>277427</td>\n      <td>0026217457</td>\n      <td>0</td>\n    </tr>\n    <tr>\n      <th>972</th>\n      <td>277427</td>\n      <td>003008685X</td>\n      <td>8</td>\n    </tr>\n    <tr>\n      <th>973</th>\n      <td>277427</td>\n      <td>0030615321</td>\n      <td>0</td>\n    </tr>\n    <tr>\n      <th>974</th>\n      <td>277427</td>\n      <td>0060002050</td>\n      <td>0</td>\n    </tr>\n    <tr>\n      <th>...</th>\n      <td>...</td>\n      <td>...</td>\n      <td>...</td>\n    </tr>\n    <tr>\n      <th>930900</th>\n      <td>276680</td>\n      <td>1884910033</td>\n      <td>0</td>\n    </tr>\n    <tr>\n      <th>930901</th>\n      <td>276680</td>\n      <td>1888173408</td>\n      <td>7</td>\n    </tr>\n    <tr>\n      <th>930902</th>\n      <td>276680</td>\n      <td>1888173564</td>\n      <td>8</td>\n    </tr>\n    <tr>\n      <th>930903</th>\n      <td>276680</td>\n      <td>1888173572</td>\n      <td>0</td>\n    </tr>\n    <tr>\n      <th>930904</th>\n      <td>276680</td>\n      <td>1931561648</td>\n      <td>9</td>\n    </tr>\n  </tbody>\n</table>\n<p>545665 rows × 3 columns</p>\n</div>"
     },
     "execution_count": 9,
     "metadata": {},
     "output_type": "execute_result"
    }
   ],
   "source": [
    "ratingsDF"
   ],
   "metadata": {
    "collapsed": false,
    "pycharm": {
     "name": "#%%\n"
    }
   }
  },
  {
   "cell_type": "code",
   "execution_count": 10,
   "outputs": [],
   "source": [
    "ratingsDF.to_csv('ratings.csv',index = False)"
   ],
   "metadata": {
    "collapsed": false,
    "pycharm": {
     "name": "#%%\n"
    }
   }
  },
  {
   "cell_type": "code",
   "execution_count": 11,
   "outputs": [],
   "source": [
    "del usersDF['id']"
   ],
   "metadata": {
    "collapsed": false,
    "pycharm": {
     "name": "#%%\n"
    }
   }
  },
  {
   "cell_type": "code",
   "execution_count": 12,
   "outputs": [
    {
     "data": {
      "text/plain": "      User-ID                              Location   Age\n0           8              timmins, ontario, canada   NaN\n1         183                porto, porto, portugal  27.0\n2         242  neuffen, baden-wuerttemberg, germany  37.0\n3         243           arden hills, minnesota, usa   NaN\n4         254           minneapolis, minnesota, usa  24.0\n...       ...                                   ...   ...\n9995   278582               slidell, louisiana, usa   NaN\n9996   278633                      sandy, utah, usa   NaN\n9997   278637            strasbourg, alsace, france   NaN\n9998   278843          pismo beach, california, usa  28.0\n9999   278851                    dallas, texas, usa  33.0\n\n[10000 rows x 3 columns]",
      "text/html": "<div>\n<style scoped>\n    .dataframe tbody tr th:only-of-type {\n        vertical-align: middle;\n    }\n\n    .dataframe tbody tr th {\n        vertical-align: top;\n    }\n\n    .dataframe thead th {\n        text-align: right;\n    }\n</style>\n<table border=\"1\" class=\"dataframe\">\n  <thead>\n    <tr style=\"text-align: right;\">\n      <th></th>\n      <th>User-ID</th>\n      <th>Location</th>\n      <th>Age</th>\n    </tr>\n  </thead>\n  <tbody>\n    <tr>\n      <th>0</th>\n      <td>8</td>\n      <td>timmins, ontario, canada</td>\n      <td>NaN</td>\n    </tr>\n    <tr>\n      <th>1</th>\n      <td>183</td>\n      <td>porto, porto, portugal</td>\n      <td>27.0</td>\n    </tr>\n    <tr>\n      <th>2</th>\n      <td>242</td>\n      <td>neuffen, baden-wuerttemberg, germany</td>\n      <td>37.0</td>\n    </tr>\n    <tr>\n      <th>3</th>\n      <td>243</td>\n      <td>arden hills, minnesota, usa</td>\n      <td>NaN</td>\n    </tr>\n    <tr>\n      <th>4</th>\n      <td>254</td>\n      <td>minneapolis, minnesota, usa</td>\n      <td>24.0</td>\n    </tr>\n    <tr>\n      <th>...</th>\n      <td>...</td>\n      <td>...</td>\n      <td>...</td>\n    </tr>\n    <tr>\n      <th>9995</th>\n      <td>278582</td>\n      <td>slidell, louisiana, usa</td>\n      <td>NaN</td>\n    </tr>\n    <tr>\n      <th>9996</th>\n      <td>278633</td>\n      <td>sandy, utah, usa</td>\n      <td>NaN</td>\n    </tr>\n    <tr>\n      <th>9997</th>\n      <td>278637</td>\n      <td>strasbourg, alsace, france</td>\n      <td>NaN</td>\n    </tr>\n    <tr>\n      <th>9998</th>\n      <td>278843</td>\n      <td>pismo beach, california, usa</td>\n      <td>28.0</td>\n    </tr>\n    <tr>\n      <th>9999</th>\n      <td>278851</td>\n      <td>dallas, texas, usa</td>\n      <td>33.0</td>\n    </tr>\n  </tbody>\n</table>\n<p>10000 rows × 3 columns</p>\n</div>"
     },
     "execution_count": 12,
     "metadata": {},
     "output_type": "execute_result"
    }
   ],
   "source": [
    "usersDF"
   ],
   "metadata": {
    "collapsed": false,
    "pycharm": {
     "name": "#%%\n"
    }
   }
  },
  {
   "cell_type": "code",
   "execution_count": 13,
   "outputs": [],
   "source": [
    "temp2 = usersDF[usersDF['User-ID'].isin(usrs)]"
   ],
   "metadata": {
    "collapsed": false,
    "pycharm": {
     "name": "#%%\n"
    }
   }
  },
  {
   "cell_type": "code",
   "execution_count": 14,
   "outputs": [],
   "source": [
    "temp2 = temp2.reset_index()"
   ],
   "metadata": {
    "collapsed": false,
    "pycharm": {
     "name": "#%%\n"
    }
   }
  },
  {
   "cell_type": "code",
   "execution_count": 15,
   "outputs": [],
   "source": [
    "del temp2['index']"
   ],
   "metadata": {
    "collapsed": false,
    "pycharm": {
     "name": "#%%\n"
    }
   }
  },
  {
   "cell_type": "code",
   "execution_count": 16,
   "outputs": [
    {
     "data": {
      "text/plain": "     User-ID                             Location   Age\n0        254          minneapolis, minnesota, usa  24.0\n1       2033                 omaha, nebraska, usa  27.0\n2       2276             niskayuna, new york, usa  46.0\n3       2766                   frisco, texas, usa  42.0\n4       2977            richland, washington, usa  25.0\n..       ...                                  ...   ...\n995   277427                gilbert, arizona, usa  48.0\n996   277478  schiedam, zuid-holland, netherlands  31.0\n997   277639                forsyth, montana, usa  48.0\n998   278188           lake george, new york, usa  34.0\n999   278418                 omaha, nebraska, usa   NaN\n\n[1000 rows x 3 columns]",
      "text/html": "<div>\n<style scoped>\n    .dataframe tbody tr th:only-of-type {\n        vertical-align: middle;\n    }\n\n    .dataframe tbody tr th {\n        vertical-align: top;\n    }\n\n    .dataframe thead th {\n        text-align: right;\n    }\n</style>\n<table border=\"1\" class=\"dataframe\">\n  <thead>\n    <tr style=\"text-align: right;\">\n      <th></th>\n      <th>User-ID</th>\n      <th>Location</th>\n      <th>Age</th>\n    </tr>\n  </thead>\n  <tbody>\n    <tr>\n      <th>0</th>\n      <td>254</td>\n      <td>minneapolis, minnesota, usa</td>\n      <td>24.0</td>\n    </tr>\n    <tr>\n      <th>1</th>\n      <td>2033</td>\n      <td>omaha, nebraska, usa</td>\n      <td>27.0</td>\n    </tr>\n    <tr>\n      <th>2</th>\n      <td>2276</td>\n      <td>niskayuna, new york, usa</td>\n      <td>46.0</td>\n    </tr>\n    <tr>\n      <th>3</th>\n      <td>2766</td>\n      <td>frisco, texas, usa</td>\n      <td>42.0</td>\n    </tr>\n    <tr>\n      <th>4</th>\n      <td>2977</td>\n      <td>richland, washington, usa</td>\n      <td>25.0</td>\n    </tr>\n    <tr>\n      <th>...</th>\n      <td>...</td>\n      <td>...</td>\n      <td>...</td>\n    </tr>\n    <tr>\n      <th>995</th>\n      <td>277427</td>\n      <td>gilbert, arizona, usa</td>\n      <td>48.0</td>\n    </tr>\n    <tr>\n      <th>996</th>\n      <td>277478</td>\n      <td>schiedam, zuid-holland, netherlands</td>\n      <td>31.0</td>\n    </tr>\n    <tr>\n      <th>997</th>\n      <td>277639</td>\n      <td>forsyth, montana, usa</td>\n      <td>48.0</td>\n    </tr>\n    <tr>\n      <th>998</th>\n      <td>278188</td>\n      <td>lake george, new york, usa</td>\n      <td>34.0</td>\n    </tr>\n    <tr>\n      <th>999</th>\n      <td>278418</td>\n      <td>omaha, nebraska, usa</td>\n      <td>NaN</td>\n    </tr>\n  </tbody>\n</table>\n<p>1000 rows × 3 columns</p>\n</div>"
     },
     "execution_count": 16,
     "metadata": {},
     "output_type": "execute_result"
    }
   ],
   "source": [
    "temp2"
   ],
   "metadata": {
    "collapsed": false,
    "pycharm": {
     "name": "#%%\n"
    }
   }
  },
  {
   "cell_type": "code",
   "execution_count": 17,
   "outputs": [],
   "source": [
    "temp2.to_csv('users.csv',index = False)"
   ],
   "metadata": {
    "collapsed": false,
    "pycharm": {
     "name": "#%%\n"
    }
   }
  },
  {
   "cell_type": "code",
   "execution_count": null,
   "outputs": [],
   "source": [
    "\n"
   ],
   "metadata": {
    "collapsed": false,
    "pycharm": {
     "name": "#%%\n"
    }
   }
  }
 ],
 "metadata": {
  "kernelspec": {
   "display_name": "Python 3",
   "language": "python",
   "name": "python3"
  },
  "language_info": {
   "codemirror_mode": {
    "name": "ipython",
    "version": 2
   },
   "file_extension": ".py",
   "mimetype": "text/x-python",
   "name": "python",
   "nbconvert_exporter": "python",
   "pygments_lexer": "ipython2",
   "version": "2.7.6"
  }
 },
 "nbformat": 4,
 "nbformat_minor": 0
}